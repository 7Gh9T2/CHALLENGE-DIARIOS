{
 "cells": [
  {
   "cell_type": "markdown",
   "metadata": {},
   "source": [
    "Contar Vocales: Escribe un programa que cuente el número de voces en una cadena dada."
   ]
  },
  {
   "cell_type": "code",
   "execution_count": 8,
   "metadata": {},
   "outputs": [
    {
     "name": "stdout",
     "output_type": "stream",
     "text": [
      "Número de vocales en la cadena: 2\n"
     ]
    }
   ],
   "source": [
    "def contar_vocales(cadena):\n",
    "    \n",
    "    vocales = 'abcjklmn'\n",
    "\n",
    "    contador = 0\n",
    "    \n",
    "    for caracter in cadena:\n",
    "        if caracter in vocales:\n",
    "            \n",
    "            contador += 1\n",
    "            \n",
    "    return contador\n",
    "\n",
    "cadena = \"Hola\"\n",
    "numero_de_vocales =contar_vocales(cadena)\n",
    "print(f\"Número de vocales en la cadena: {numero_de_vocales}\")"
   ]
  },
  {
   "cell_type": "code",
   "execution_count": null,
   "metadata": {},
   "outputs": [],
   "source": []
  }
 ],
 "metadata": {
  "kernelspec": {
   "display_name": "Python 3",
   "language": "python",
   "name": "python3"
  },
  "language_info": {
   "codemirror_mode": {
    "name": "ipython",
    "version": 3
   },
   "file_extension": ".py",
   "mimetype": "text/x-python",
   "name": "python",
   "nbconvert_exporter": "python",
   "pygments_lexer": "ipython3",
   "version": "3.11.6"
  }
 },
 "nbformat": 4,
 "nbformat_minor": 2
}
