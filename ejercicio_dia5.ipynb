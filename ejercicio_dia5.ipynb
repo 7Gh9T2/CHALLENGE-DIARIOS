{
 "cells": [
  {
   "cell_type": "markdown",
   "metadata": {},
   "source": [
    "Crear un Diccionario: Escribe un programa que cree un diccionario a partir de dos listas: una de claves y otra de valores."
   ]
  },
  {
   "cell_type": "code",
   "execution_count": 1,
   "metadata": {},
   "outputs": [
    {
     "name": "stdout",
     "output_type": "stream",
     "text": [
      "{'marca': 'nike', 'calce': 37, 'color': 'negro'}\n"
     ]
    }
   ],
   "source": [
    "claves = [\"marca\", \"calce\", \"color\"]\n",
    "valores = [\"nike\", 37, \"negro\"]\n",
    "\n",
    "diccionario = dict(zip(claves, valores))\n",
    "\n",
    "print(diccionario)\n"
   ]
  },
  {
   "cell_type": "code",
   "execution_count": null,
   "metadata": {},
   "outputs": [],
   "source": []
  }
 ],
 "metadata": {
  "kernelspec": {
   "display_name": "Python 3",
   "language": "python",
   "name": "python3"
  },
  "language_info": {
   "codemirror_mode": {
    "name": "ipython",
    "version": 3
   },
   "file_extension": ".py",
   "mimetype": "text/x-python",
   "name": "python",
   "nbconvert_exporter": "python",
   "pygments_lexer": "ipython3",
   "version": "3.11.6"
  }
 },
 "nbformat": 4,
 "nbformat_minor": 2
}
