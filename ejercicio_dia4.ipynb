{
 "cells": [
  {
   "cell_type": "markdown",
   "metadata": {},
   "source": [
    "Ordenar Lista: Escribe un programa que ordena una lista de números dada por el usuario en orden ascendente."
   ]
  },
  {
   "cell_type": "code",
   "execution_count": 2,
   "metadata": {},
   "outputs": [
    {
     "name": "stdout",
     "output_type": "stream",
     "text": [
      "Lista ordenada: [987654321]\n"
     ]
    }
   ],
   "source": [
    "def lista_ordenada():\n",
    "\n",
    "    entrada = input(\"Ingrese los números: \")\n",
    "    \n",
    "    \n",
    "    lista_numeros = [int(num) for num in entrada.split()]\n",
    "    \n",
    "    \n",
    "    lista_numeros.sort()\n",
    "    \n",
    "    \n",
    "    print(\"Lista ordenada:\", lista_numeros)\n",
    "\n",
    "lista_ordenada()\n"
   ]
  },
  {
   "cell_type": "code",
   "execution_count": null,
   "metadata": {},
   "outputs": [],
   "source": []
  }
 ],
 "metadata": {
  "kernelspec": {
   "display_name": "Python 3",
   "language": "python",
   "name": "python3"
  },
  "language_info": {
   "codemirror_mode": {
    "name": "ipython",
    "version": 3
   },
   "file_extension": ".py",
   "mimetype": "text/x-python",
   "name": "python",
   "nbconvert_exporter": "python",
   "pygments_lexer": "ipython3",
   "version": "3.11.6"
  }
 },
 "nbformat": 4,
 "nbformat_minor": 2
}
