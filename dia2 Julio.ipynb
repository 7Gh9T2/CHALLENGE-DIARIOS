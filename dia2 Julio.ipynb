{
 "cells": [
  {
   "cell_type": "markdown",
   "metadata": {},
   "source": [
    "\n",
    "\n",
    "Ordenamiento simple: Escribe una función que ordene una lista de 5 enteros utilizando cualquier método de ordenamiento que prefieras (por ejemplo, burbuja, inserción, selección).\n"
   ]
  },
  {
   "cell_type": "code",
   "execution_count": 3,
   "metadata": {},
   "outputs": [
    {
     "name": "stdout",
     "output_type": "stream",
     "text": [
      "Lista original: [64, 34, 25, 12, 22]\n",
      "Lista ordenada: [12, 22, 25, 34, 64]\n"
     ]
    }
   ],
   "source": [
    "def ordenar_burbuja(lista):\n",
    "    longitud_lista = len(lista)\n",
    "    for i in range(longitud_lista):\n",
    "        for n in range(0, longitud_lista-i-1):\n",
    "            if lista[n] > lista[n+1]:\n",
    "            \n",
    "                lista[n], lista[n+1] = lista[n+1], lista[n]\n",
    "\n",
    "\n",
    "lista = [64, 34, 25, 12, 22]\n",
    "print(\"Lista original:\", lista)\n",
    "ordenar_burbuja(lista)\n",
    "print(\"Lista ordenada:\", lista)\n"
   ]
  },
  {
   "cell_type": "code",
   "execution_count": null,
   "metadata": {},
   "outputs": [],
   "source": []
  }
 ],
 "metadata": {
  "kernelspec": {
   "display_name": "Python 3",
   "language": "python",
   "name": "python3"
  },
  "language_info": {
   "codemirror_mode": {
    "name": "ipython",
    "version": 3
   },
   "file_extension": ".py",
   "mimetype": "text/x-python",
   "name": "python",
   "nbconvert_exporter": "python",
   "pygments_lexer": "ipython3",
   "version": "3.11.6"
  }
 },
 "nbformat": 4,
 "nbformat_minor": 2
}
